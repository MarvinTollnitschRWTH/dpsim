{
 "cells": [
  {
   "cell_type": "code",
   "execution_count": null,
   "metadata": {},
   "outputs": [],
   "source": []
  },
  {
   "cell_type": "code",
   "execution_count": null,
   "metadata": {},
   "outputs": [],
   "source": [
    "from villas.dataprocessing.readtools import *\n",
    "from villas.dataprocessing.timeseries import *\n",
    "from villas.dataprocessing.timeseries import TimeSeries as ts\n",
    "import matplotlib.pyplot as plt\n",
    "import numpy as np\n",
    "import dpsimpy\n",
    "import re\n",
    "\n",
    "#%matplotlib widget\n",
    "\n",
    "#Define simulation scenario\n",
    "time_step = 0.0001\n",
    "final_time = 0.1\n",
    "simName = \"EMT_Ph1_VS_R1_Diode\"\n",
    "\n",
    "dpsimpy.Logger.set_log_dir('logs/' + sim_name)\n",
    "\n",
    "#Nodes\n",
    "gnd = dpsimpy.emt.SimNode.gnd\n",
    "n1 = dpsimpy.emt.SimNode(\"n1\", dpsimpy.PhaseType.Single)\n",
    "n2 = dpsimpy.emt.SimNode(\"n2\", dpsimpy.PhaseType.Single)\n",
    "\n",
    "#Components\n",
    "vs = dpsimpy.emt.ph1.VoltageSource(\"vs\")\n",
    "vs.set_parameters(complex(1.,0.), 50.0);\n",
    "\n",
    "load = dpsimpy.emt.ph1.resistor(\"r1\")\n",
    "load.set_parameters(10.)\n",
    "\n",
    "diode = ph1::SSN::Diode::make(\"Diode\");\n",
    "\t\n",
    "#Topology\n",
    "load.connect([n1, n2]);\n",
    "diode.connect([gnd, n2]);\n",
    "vs.connect([gnd, n1]);\n",
    "\n",
    "sys = dpsimpy.SystemTopology(50, [n1, n2], [vs, load, diode])\n",
    "\n",
    "#Logging\n",
    "logger = dpsimpy.Logger(sim_name)\n",
    "logger.log_attribute(\"I_Diode\", \"i_intf\", diode)\n",
    "logger.log_attribute(\"V_Diode\", \"v_intf\", diode)\n",
    "\n",
    "# Simulation\n",
    "sim = dpsimpy.Simulation(sim_name)\n",
    "sim.set_system(sys)\n",
    "sim.set_time_step(time_step)\n",
    "sim.set_final_time(final_time)\n",
    "sim.set_domain(dpsimpy.Domain.EMT)\n",
    "sim.se\n",
    "sim.add_logger(logger)\n",
    "sim.run()"
   ]
  }
 ],
 "metadata": {
  "language_info": {
   "name": "python"
  },
  "orig_nbformat": 4
 },
 "nbformat": 4,
 "nbformat_minor": 2
}
